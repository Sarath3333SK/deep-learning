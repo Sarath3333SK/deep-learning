{
 "cells": [
  {
   "cell_type": "code",
   "execution_count": 1,
   "id": "0e86d9d1",
   "metadata": {
    "_cell_guid": "b1076dfc-b9ad-4769-8c92-a6c4dae69d19",
    "_uuid": "8f2839f25d086af736a60e9eeb907d3b93b6e0e5",
    "execution": {
     "iopub.execute_input": "2022-01-18T19:33:31.968804Z",
     "iopub.status.busy": "2022-01-18T19:33:31.967501Z",
     "iopub.status.idle": "2022-01-18T19:33:31.988757Z",
     "shell.execute_reply": "2022-01-18T19:33:31.988072Z",
     "shell.execute_reply.started": "2022-01-18T19:32:31.701692Z"
    },
    "papermill": {
     "duration": 0.045871,
     "end_time": "2022-01-18T19:33:31.988950",
     "exception": false,
     "start_time": "2022-01-18T19:33:31.943079",
     "status": "completed"
    },
    "tags": []
   },
   "outputs": [
    {
     "name": "stdout",
     "output_type": "stream",
     "text": [
      "/kaggle/input/ecommerce-sales-dataset/customer_details.csv\n",
      "/kaggle/input/ecommerce-sales-dataset/basket_details.csv\n"
     ]
    }
   ],
   "source": [
    "# This Python 3 environment comes with many helpful analytics libraries installed\n",
    "# It is defined by the kaggle/python Docker image: https://github.com/kaggle/docker-python\n",
    "# For example, here's several helpful packages to load\n",
    "\n",
    "import numpy as np # linear algebra\n",
    "import pandas as pd # data processing, CSV file I/O (e.g. pd.read_csv)\n",
    "\n",
    "# Input data files are available in the read-only \"../input/\" directory\n",
    "# For example, running this (by clicking run or pressing Shift+Enter) will list all files under the input directory\n",
    "\n",
    "import os\n",
    "for dirname, _, filenames in os.walk('/kaggle/input'):\n",
    "    for filename in filenames:\n",
    "        print(os.path.join(dirname, filename))\n",
    "\n",
    "# You can write up to 20GB to the current directory (/kaggle/working/) that gets preserved as output when you create a version using \"Save & Run All\" \n",
    "# You can also write temporary files to /kaggle/temp/, but they won't be saved outside of the current session"
   ]
  },
  {
   "cell_type": "code",
   "execution_count": 2,
   "id": "1982c6cd",
   "metadata": {
    "execution": {
     "iopub.execute_input": "2022-01-18T19:33:32.035514Z",
     "iopub.status.busy": "2022-01-18T19:33:32.034690Z",
     "iopub.status.idle": "2022-01-18T19:33:33.194140Z",
     "shell.execute_reply": "2022-01-18T19:33:33.194934Z",
     "shell.execute_reply.started": "2022-01-18T19:32:31.714154Z"
    },
    "papermill": {
     "duration": 1.186856,
     "end_time": "2022-01-18T19:33:33.195198",
     "exception": false,
     "start_time": "2022-01-18T19:33:32.008342",
     "status": "completed"
    },
    "tags": []
   },
   "outputs": [],
   "source": [
    "import pandas as pd \n",
    "import seaborn as sns\n",
    "import matplotlib.pyplot as plt\n",
    "\n",
    "basket = pd.read_csv('/kaggle/input/ecommerce-sales-dataset/basket_details.csv')\n",
    "customer = pd.read_csv('/kaggle/input/ecommerce-sales-dataset/customer_details.csv')"
   ]
  },
  {
   "cell_type": "code",
   "execution_count": 3,
   "id": "2bab66ea",
   "metadata": {
    "execution": {
     "iopub.execute_input": "2022-01-18T19:33:33.240998Z",
     "iopub.status.busy": "2022-01-18T19:33:33.240216Z",
     "iopub.status.idle": "2022-01-18T19:33:33.266844Z",
     "shell.execute_reply": "2022-01-18T19:33:33.267439Z",
     "shell.execute_reply.started": "2022-01-18T19:32:31.753151Z"
    },
    "papermill": {
     "duration": 0.053085,
     "end_time": "2022-01-18T19:33:33.267648",
     "exception": false,
     "start_time": "2022-01-18T19:33:33.214563",
     "status": "completed"
    },
    "tags": []
   },
   "outputs": [
    {
     "name": "stdout",
     "output_type": "stream",
     "text": [
      "<class 'pandas.core.frame.DataFrame'>\n",
      "RangeIndex: 15000 entries, 0 to 14999\n",
      "Data columns (total 4 columns):\n",
      " #   Column        Non-Null Count  Dtype \n",
      "---  ------        --------------  ----- \n",
      " 0   customer_id   15000 non-null  int64 \n",
      " 1   product_id    15000 non-null  int64 \n",
      " 2   basket_date   15000 non-null  object\n",
      " 3   basket_count  15000 non-null  int64 \n",
      "dtypes: int64(3), object(1)\n",
      "memory usage: 468.9+ KB\n"
     ]
    }
   ],
   "source": [
    "#based on the info given, we can see there is no null entries so proceed\n",
    "basket.info()"
   ]
  },
  {
   "cell_type": "code",
   "execution_count": 4,
   "id": "23456927",
   "metadata": {
    "execution": {
     "iopub.execute_input": "2022-01-18T19:33:33.316962Z",
     "iopub.status.busy": "2022-01-18T19:33:33.316103Z",
     "iopub.status.idle": "2022-01-18T19:33:33.332511Z",
     "shell.execute_reply": "2022-01-18T19:33:33.333055Z",
     "shell.execute_reply.started": "2022-01-18T19:32:31.773524Z"
    },
    "papermill": {
     "duration": 0.045785,
     "end_time": "2022-01-18T19:33:33.333261",
     "exception": false,
     "start_time": "2022-01-18T19:33:33.287476",
     "status": "completed"
    },
    "tags": []
   },
   "outputs": [
    {
     "data": {
      "text/html": [
       "<div>\n",
       "<style scoped>\n",
       "    .dataframe tbody tr th:only-of-type {\n",
       "        vertical-align: middle;\n",
       "    }\n",
       "\n",
       "    .dataframe tbody tr th {\n",
       "        vertical-align: top;\n",
       "    }\n",
       "\n",
       "    .dataframe thead th {\n",
       "        text-align: right;\n",
       "    }\n",
       "</style>\n",
       "<table border=\"1\" class=\"dataframe\">\n",
       "  <thead>\n",
       "    <tr style=\"text-align: right;\">\n",
       "      <th></th>\n",
       "      <th>customer_id</th>\n",
       "      <th>product_id</th>\n",
       "      <th>basket_count</th>\n",
       "    </tr>\n",
       "    <tr>\n",
       "      <th>basket_date</th>\n",
       "      <th></th>\n",
       "      <th></th>\n",
       "      <th></th>\n",
       "    </tr>\n",
       "  </thead>\n",
       "  <tbody>\n",
       "    <tr>\n",
       "      <th>2019-05-20</th>\n",
       "      <td>518</td>\n",
       "      <td>518</td>\n",
       "      <td>518</td>\n",
       "    </tr>\n",
       "    <tr>\n",
       "      <th>2019-05-21</th>\n",
       "      <td>457</td>\n",
       "      <td>457</td>\n",
       "      <td>457</td>\n",
       "    </tr>\n",
       "    <tr>\n",
       "      <th>2019-05-22</th>\n",
       "      <td>276</td>\n",
       "      <td>276</td>\n",
       "      <td>276</td>\n",
       "    </tr>\n",
       "    <tr>\n",
       "      <th>2019-05-23</th>\n",
       "      <td>275</td>\n",
       "      <td>275</td>\n",
       "      <td>275</td>\n",
       "    </tr>\n",
       "    <tr>\n",
       "      <th>2019-05-24</th>\n",
       "      <td>611</td>\n",
       "      <td>611</td>\n",
       "      <td>611</td>\n",
       "    </tr>\n",
       "    <tr>\n",
       "      <th>2019-05-25</th>\n",
       "      <td>1162</td>\n",
       "      <td>1162</td>\n",
       "      <td>1162</td>\n",
       "    </tr>\n",
       "    <tr>\n",
       "      <th>2019-05-26</th>\n",
       "      <td>1578</td>\n",
       "      <td>1578</td>\n",
       "      <td>1578</td>\n",
       "    </tr>\n",
       "    <tr>\n",
       "      <th>2019-05-27</th>\n",
       "      <td>1617</td>\n",
       "      <td>1617</td>\n",
       "      <td>1617</td>\n",
       "    </tr>\n",
       "    <tr>\n",
       "      <th>2019-05-28</th>\n",
       "      <td>1213</td>\n",
       "      <td>1213</td>\n",
       "      <td>1213</td>\n",
       "    </tr>\n",
       "    <tr>\n",
       "      <th>2019-05-29</th>\n",
       "      <td>464</td>\n",
       "      <td>464</td>\n",
       "      <td>464</td>\n",
       "    </tr>\n",
       "    <tr>\n",
       "      <th>2019-05-30</th>\n",
       "      <td>346</td>\n",
       "      <td>346</td>\n",
       "      <td>346</td>\n",
       "    </tr>\n",
       "    <tr>\n",
       "      <th>2019-05-31</th>\n",
       "      <td>379</td>\n",
       "      <td>379</td>\n",
       "      <td>379</td>\n",
       "    </tr>\n",
       "    <tr>\n",
       "      <th>2019-06-01</th>\n",
       "      <td>298</td>\n",
       "      <td>298</td>\n",
       "      <td>298</td>\n",
       "    </tr>\n",
       "    <tr>\n",
       "      <th>2019-06-02</th>\n",
       "      <td>270</td>\n",
       "      <td>270</td>\n",
       "      <td>270</td>\n",
       "    </tr>\n",
       "    <tr>\n",
       "      <th>2019-06-03</th>\n",
       "      <td>293</td>\n",
       "      <td>293</td>\n",
       "      <td>293</td>\n",
       "    </tr>\n",
       "    <tr>\n",
       "      <th>2019-06-04</th>\n",
       "      <td>289</td>\n",
       "      <td>289</td>\n",
       "      <td>289</td>\n",
       "    </tr>\n",
       "    <tr>\n",
       "      <th>2019-06-05</th>\n",
       "      <td>205</td>\n",
       "      <td>205</td>\n",
       "      <td>205</td>\n",
       "    </tr>\n",
       "    <tr>\n",
       "      <th>2019-06-06</th>\n",
       "      <td>187</td>\n",
       "      <td>187</td>\n",
       "      <td>187</td>\n",
       "    </tr>\n",
       "    <tr>\n",
       "      <th>2019-06-07</th>\n",
       "      <td>285</td>\n",
       "      <td>285</td>\n",
       "      <td>285</td>\n",
       "    </tr>\n",
       "    <tr>\n",
       "      <th>2019-06-08</th>\n",
       "      <td>348</td>\n",
       "      <td>348</td>\n",
       "      <td>348</td>\n",
       "    </tr>\n",
       "    <tr>\n",
       "      <th>2019-06-09</th>\n",
       "      <td>508</td>\n",
       "      <td>508</td>\n",
       "      <td>508</td>\n",
       "    </tr>\n",
       "    <tr>\n",
       "      <th>2019-06-10</th>\n",
       "      <td>474</td>\n",
       "      <td>474</td>\n",
       "      <td>474</td>\n",
       "    </tr>\n",
       "    <tr>\n",
       "      <th>2019-06-11</th>\n",
       "      <td>428</td>\n",
       "      <td>428</td>\n",
       "      <td>428</td>\n",
       "    </tr>\n",
       "    <tr>\n",
       "      <th>2019-06-12</th>\n",
       "      <td>289</td>\n",
       "      <td>289</td>\n",
       "      <td>289</td>\n",
       "    </tr>\n",
       "    <tr>\n",
       "      <th>2019-06-13</th>\n",
       "      <td>215</td>\n",
       "      <td>215</td>\n",
       "      <td>215</td>\n",
       "    </tr>\n",
       "    <tr>\n",
       "      <th>2019-06-14</th>\n",
       "      <td>392</td>\n",
       "      <td>392</td>\n",
       "      <td>392</td>\n",
       "    </tr>\n",
       "    <tr>\n",
       "      <th>2019-06-15</th>\n",
       "      <td>399</td>\n",
       "      <td>399</td>\n",
       "      <td>399</td>\n",
       "    </tr>\n",
       "    <tr>\n",
       "      <th>2019-06-16</th>\n",
       "      <td>371</td>\n",
       "      <td>371</td>\n",
       "      <td>371</td>\n",
       "    </tr>\n",
       "    <tr>\n",
       "      <th>2019-06-17</th>\n",
       "      <td>273</td>\n",
       "      <td>273</td>\n",
       "      <td>273</td>\n",
       "    </tr>\n",
       "    <tr>\n",
       "      <th>2019-06-18</th>\n",
       "      <td>345</td>\n",
       "      <td>345</td>\n",
       "      <td>345</td>\n",
       "    </tr>\n",
       "    <tr>\n",
       "      <th>2019-06-19</th>\n",
       "      <td>235</td>\n",
       "      <td>235</td>\n",
       "      <td>235</td>\n",
       "    </tr>\n",
       "  </tbody>\n",
       "</table>\n",
       "</div>"
      ],
      "text/plain": [
       "             customer_id  product_id  basket_count\n",
       "basket_date                                       \n",
       "2019-05-20           518         518           518\n",
       "2019-05-21           457         457           457\n",
       "2019-05-22           276         276           276\n",
       "2019-05-23           275         275           275\n",
       "2019-05-24           611         611           611\n",
       "2019-05-25          1162        1162          1162\n",
       "2019-05-26          1578        1578          1578\n",
       "2019-05-27          1617        1617          1617\n",
       "2019-05-28          1213        1213          1213\n",
       "2019-05-29           464         464           464\n",
       "2019-05-30           346         346           346\n",
       "2019-05-31           379         379           379\n",
       "2019-06-01           298         298           298\n",
       "2019-06-02           270         270           270\n",
       "2019-06-03           293         293           293\n",
       "2019-06-04           289         289           289\n",
       "2019-06-05           205         205           205\n",
       "2019-06-06           187         187           187\n",
       "2019-06-07           285         285           285\n",
       "2019-06-08           348         348           348\n",
       "2019-06-09           508         508           508\n",
       "2019-06-10           474         474           474\n",
       "2019-06-11           428         428           428\n",
       "2019-06-12           289         289           289\n",
       "2019-06-13           215         215           215\n",
       "2019-06-14           392         392           392\n",
       "2019-06-15           399         399           399\n",
       "2019-06-16           371         371           371\n",
       "2019-06-17           273         273           273\n",
       "2019-06-18           345         345           345\n",
       "2019-06-19           235         235           235"
      ]
     },
     "execution_count": 4,
     "metadata": {},
     "output_type": "execute_result"
    }
   ],
   "source": [
    "##grouping basket date so we can count number of sales according to date \n",
    "sales = basket.groupby('basket_date').count()\n",
    "sales"
   ]
  },
  {
   "cell_type": "code",
   "execution_count": 5,
   "id": "7062943a",
   "metadata": {
    "execution": {
     "iopub.execute_input": "2022-01-18T19:33:33.376624Z",
     "iopub.status.busy": "2022-01-18T19:33:33.375930Z",
     "iopub.status.idle": "2022-01-18T19:33:33.922336Z",
     "shell.execute_reply": "2022-01-18T19:33:33.921658Z",
     "shell.execute_reply.started": "2022-01-18T19:32:31.793262Z"
    },
    "papermill": {
     "duration": 0.56891,
     "end_time": "2022-01-18T19:33:33.922488",
     "exception": false,
     "start_time": "2022-01-18T19:33:33.353578",
     "status": "completed"
    },
    "tags": []
   },
   "outputs": [
    {
     "data": {
      "image/png": "[encoded data removed]",
      "text/plain": [
       "<Figure size 360x360 with 1 Axes>"
      ]
     },
     "metadata": {
      "needs_background": "light"
     },
     "output_type": "display_data"
    }
   ],
   "source": [
    "##visualize the sales data so we can see the trend \n",
    "g= sns.relplot(x=\"basket_date\", y=\"product_id\", kind='line', data=sales)\n",
    "g.fig.autofmt_xdate()"
   ]
  },
  {
   "cell_type": "markdown",
   "id": "d488328d",
   "metadata": {
    "papermill": {
     "duration": 0.020192,
     "end_time": "2022-01-18T19:33:33.962881",
     "exception": false,
     "start_time": "2022-01-18T19:33:33.942689",
     "status": "completed"
    },
    "tags": []
   },
   "source": [
    "Base on the line graph, we can see a large increment in sales during end of may from 24 of may to 28 of may "
   ]
  },
  {
   "cell_type": "code",
   "execution_count": 6,
   "id": "83cbf0fa",
   "metadata": {
    "execution": {
     "iopub.execute_input": "2022-01-18T19:33:34.009064Z",
     "iopub.status.busy": "2022-01-18T19:33:34.008228Z",
     "iopub.status.idle": "2022-01-18T19:33:34.028074Z",
     "shell.execute_reply": "2022-01-18T19:33:34.028630Z",
     "shell.execute_reply.started": "2022-01-18T19:32:32.310831Z"
    },
    "papermill": {
     "duration": 0.045445,
     "end_time": "2022-01-18T19:33:34.028804",
     "exception": false,
     "start_time": "2022-01-18T19:33:33.983359",
     "status": "completed"
    },
    "tags": []
   },
   "outputs": [
    {
     "data": {
      "text/html": [
       "<div>\n",
       "<style scoped>\n",
       "    .dataframe tbody tr th:only-of-type {\n",
       "        vertical-align: middle;\n",
       "    }\n",
       "\n",
       "    .dataframe tbody tr th {\n",
       "        vertical-align: top;\n",
       "    }\n",
       "\n",
       "    .dataframe thead th {\n",
       "        text-align: right;\n",
       "    }\n",
       "</style>\n",
       "<table border=\"1\" class=\"dataframe\">\n",
       "  <thead>\n",
       "    <tr style=\"text-align: right;\">\n",
       "      <th></th>\n",
       "      <th>customer_id</th>\n",
       "      <th>basket_date</th>\n",
       "      <th>basket_count</th>\n",
       "    </tr>\n",
       "    <tr>\n",
       "      <th>product_id</th>\n",
       "      <th></th>\n",
       "      <th></th>\n",
       "      <th></th>\n",
       "    </tr>\n",
       "  </thead>\n",
       "  <tbody>\n",
       "    <tr>\n",
       "      <th>43524799</th>\n",
       "      <td>32</td>\n",
       "      <td>32</td>\n",
       "      <td>32</td>\n",
       "    </tr>\n",
       "    <tr>\n",
       "      <th>31516269</th>\n",
       "      <td>25</td>\n",
       "      <td>25</td>\n",
       "      <td>25</td>\n",
       "    </tr>\n",
       "    <tr>\n",
       "      <th>39833031</th>\n",
       "      <td>24</td>\n",
       "      <td>24</td>\n",
       "      <td>24</td>\n",
       "    </tr>\n",
       "    <tr>\n",
       "      <th>46130148</th>\n",
       "      <td>17</td>\n",
       "      <td>17</td>\n",
       "      <td>17</td>\n",
       "    </tr>\n",
       "    <tr>\n",
       "      <th>40276011</th>\n",
       "      <td>12</td>\n",
       "      <td>12</td>\n",
       "      <td>12</td>\n",
       "    </tr>\n",
       "    <tr>\n",
       "      <th>3735903</th>\n",
       "      <td>12</td>\n",
       "      <td>12</td>\n",
       "      <td>12</td>\n",
       "    </tr>\n",
       "    <tr>\n",
       "      <th>42033035</th>\n",
       "      <td>11</td>\n",
       "      <td>11</td>\n",
       "      <td>11</td>\n",
       "    </tr>\n",
       "    <tr>\n",
       "      <th>39050110</th>\n",
       "      <td>11</td>\n",
       "      <td>11</td>\n",
       "      <td>11</td>\n",
       "    </tr>\n",
       "    <tr>\n",
       "      <th>6411072</th>\n",
       "      <td>10</td>\n",
       "      <td>10</td>\n",
       "      <td>10</td>\n",
       "    </tr>\n",
       "    <tr>\n",
       "      <th>35134963</th>\n",
       "      <td>10</td>\n",
       "      <td>10</td>\n",
       "      <td>10</td>\n",
       "    </tr>\n",
       "  </tbody>\n",
       "</table>\n",
       "</div>"
      ],
      "text/plain": [
       "            customer_id  basket_date  basket_count\n",
       "product_id                                        \n",
       "43524799             32           32            32\n",
       "31516269             25           25            25\n",
       "39833031             24           24            24\n",
       "46130148             17           17            17\n",
       "40276011             12           12            12\n",
       "3735903              12           12            12\n",
       "42033035             11           11            11\n",
       "39050110             11           11            11\n",
       "6411072              10           10            10\n",
       "35134963             10           10            10"
      ]
     },
     "execution_count": 6,
     "metadata": {},
     "output_type": "execute_result"
    }
   ],
   "source": [
    "##Here the data is grouped by their product id so we can see which product is in demand \n",
    "df = basket.groupby('product_id').count()\n",
    "df1 = df.sort_values([\"customer_id\"], ascending=False)\n",
    "df2=df1.head(10)\n",
    "df2"
   ]
  },
  {
   "cell_type": "code",
   "execution_count": 7,
   "id": "ead157ea",
   "metadata": {
    "execution": {
     "iopub.execute_input": "2022-01-18T19:33:34.073924Z",
     "iopub.status.busy": "2022-01-18T19:33:34.073254Z",
     "iopub.status.idle": "2022-01-18T19:33:34.082378Z",
     "shell.execute_reply": "2022-01-18T19:33:34.082870Z",
     "shell.execute_reply.started": "2022-01-18T19:32:32.331153Z"
    },
    "papermill": {
     "duration": 0.033467,
     "end_time": "2022-01-18T19:33:34.083034",
     "exception": false,
     "start_time": "2022-01-18T19:33:34.049567",
     "status": "completed"
    },
    "tags": []
   },
   "outputs": [
    {
     "data": {
      "text/html": [
       "<div>\n",
       "<style scoped>\n",
       "    .dataframe tbody tr th:only-of-type {\n",
       "        vertical-align: middle;\n",
       "    }\n",
       "\n",
       "    .dataframe tbody tr th {\n",
       "        vertical-align: top;\n",
       "    }\n",
       "\n",
       "    .dataframe thead th {\n",
       "        text-align: right;\n",
       "    }\n",
       "</style>\n",
       "<table border=\"1\" class=\"dataframe\">\n",
       "  <thead>\n",
       "    <tr style=\"text-align: right;\">\n",
       "      <th></th>\n",
       "      <th>customer_id</th>\n",
       "      <th>basket_date</th>\n",
       "      <th>basket_count</th>\n",
       "    </tr>\n",
       "    <tr>\n",
       "      <th>product_id</th>\n",
       "      <th></th>\n",
       "      <th></th>\n",
       "      <th></th>\n",
       "    </tr>\n",
       "  </thead>\n",
       "  <tbody>\n",
       "    <tr>\n",
       "      <th>33306037</th>\n",
       "      <td>1</td>\n",
       "      <td>1</td>\n",
       "      <td>1</td>\n",
       "    </tr>\n",
       "    <tr>\n",
       "      <th>33306574</th>\n",
       "      <td>1</td>\n",
       "      <td>1</td>\n",
       "      <td>1</td>\n",
       "    </tr>\n",
       "    <tr>\n",
       "      <th>33306687</th>\n",
       "      <td>1</td>\n",
       "      <td>1</td>\n",
       "      <td>1</td>\n",
       "    </tr>\n",
       "    <tr>\n",
       "      <th>33312723</th>\n",
       "      <td>1</td>\n",
       "      <td>1</td>\n",
       "      <td>1</td>\n",
       "    </tr>\n",
       "    <tr>\n",
       "      <th>33314086</th>\n",
       "      <td>1</td>\n",
       "      <td>1</td>\n",
       "      <td>1</td>\n",
       "    </tr>\n",
       "    <tr>\n",
       "      <th>33321392</th>\n",
       "      <td>1</td>\n",
       "      <td>1</td>\n",
       "      <td>1</td>\n",
       "    </tr>\n",
       "    <tr>\n",
       "      <th>33324373</th>\n",
       "      <td>1</td>\n",
       "      <td>1</td>\n",
       "      <td>1</td>\n",
       "    </tr>\n",
       "    <tr>\n",
       "      <th>33325533</th>\n",
       "      <td>1</td>\n",
       "      <td>1</td>\n",
       "      <td>1</td>\n",
       "    </tr>\n",
       "    <tr>\n",
       "      <th>33333841</th>\n",
       "      <td>1</td>\n",
       "      <td>1</td>\n",
       "      <td>1</td>\n",
       "    </tr>\n",
       "    <tr>\n",
       "      <th>55790974</th>\n",
       "      <td>1</td>\n",
       "      <td>1</td>\n",
       "      <td>1</td>\n",
       "    </tr>\n",
       "  </tbody>\n",
       "</table>\n",
       "</div>"
      ],
      "text/plain": [
       "            customer_id  basket_date  basket_count\n",
       "product_id                                        \n",
       "33306037              1            1             1\n",
       "33306574              1            1             1\n",
       "33306687              1            1             1\n",
       "33312723              1            1             1\n",
       "33314086              1            1             1\n",
       "33321392              1            1             1\n",
       "33324373              1            1             1\n",
       "33325533              1            1             1\n",
       "33333841              1            1             1\n",
       "55790974              1            1             1"
      ]
     },
     "execution_count": 7,
     "metadata": {},
     "output_type": "execute_result"
    }
   ],
   "source": [
    "##We can also see the product_id which did not sell well \n",
    "df1.tail(10)"
   ]
  },
  {
   "cell_type": "markdown",
   "id": "b6079754",
   "metadata": {
    "papermill": {
     "duration": 0.020996,
     "end_time": "2022-01-18T19:33:34.125294",
     "exception": false,
     "start_time": "2022-01-18T19:33:34.104298",
     "status": "completed"
    },
    "tags": []
   },
   "source": [
    "Based on data analysis using basket file, we can see that sales are increasing in the end of may, so owner can actually increase the stock of \n",
    "their most demanded products during the period to gain more sales.However, there is no enough data that can interpret why the other product is not in demand. \n",
    "But now the owner can do a better marketing campaign as the most and least demanded products are known."
   ]
  },
  {
   "cell_type": "code",
   "execution_count": 8,
   "id": "0172a83a",
   "metadata": {
    "execution": {
     "iopub.execute_input": "2022-01-18T19:33:34.186593Z",
     "iopub.status.busy": "2022-01-18T19:33:34.178195Z",
     "iopub.status.idle": "2022-01-18T19:33:34.188852Z",
     "shell.execute_reply": "2022-01-18T19:33:34.189551Z",
     "shell.execute_reply.started": "2022-01-18T19:32:32.341741Z"
    },
    "papermill": {
     "duration": 0.043109,
     "end_time": "2022-01-18T19:33:34.189738",
     "exception": false,
     "start_time": "2022-01-18T19:33:34.146629",
     "status": "completed"
    },
    "tags": []
   },
   "outputs": [
    {
     "name": "stdout",
     "output_type": "stream",
     "text": [
      "<class 'pandas.core.frame.DataFrame'>\n",
      "RangeIndex: 20000 entries, 0 to 19999\n",
      "Data columns (total 4 columns):\n",
      " #   Column        Non-Null Count  Dtype  \n",
      "---  ------        --------------  -----  \n",
      " 0   customer_id   20000 non-null  int64  \n",
      " 1   sex           20000 non-null  object \n",
      " 2   customer_age  20000 non-null  float64\n",
      " 3   tenure        20000 non-null  int64  \n",
      "dtypes: float64(1), int64(2), object(1)\n",
      "memory usage: 625.1+ KB\n"
     ]
    }
   ],
   "source": [
    "##read customer csv file and looked if there is null entries,there is no missing value, so proceed\n",
    "\n",
    "customer.info()"
   ]
  },
  {
   "cell_type": "code",
   "execution_count": 9,
   "id": "2899f5e6",
   "metadata": {
    "execution": {
     "iopub.execute_input": "2022-01-18T19:33:34.248242Z",
     "iopub.status.busy": "2022-01-18T19:33:34.247342Z",
     "iopub.status.idle": "2022-01-18T19:33:34.251748Z",
     "shell.execute_reply": "2022-01-18T19:33:34.251157Z",
     "shell.execute_reply.started": "2022-01-18T19:32:32.367439Z"
    },
    "papermill": {
     "duration": 0.038276,
     "end_time": "2022-01-18T19:33:34.251892",
     "exception": false,
     "start_time": "2022-01-18T19:33:34.213616",
     "status": "completed"
    },
    "tags": []
   },
   "outputs": [
    {
     "data": {
      "text/html": [
       "<div>\n",
       "<style scoped>\n",
       "    .dataframe tbody tr th:only-of-type {\n",
       "        vertical-align: middle;\n",
       "    }\n",
       "\n",
       "    .dataframe tbody tr th {\n",
       "        vertical-align: top;\n",
       "    }\n",
       "\n",
       "    .dataframe thead th {\n",
       "        text-align: right;\n",
       "    }\n",
       "</style>\n",
       "<table border=\"1\" class=\"dataframe\">\n",
       "  <thead>\n",
       "    <tr style=\"text-align: right;\">\n",
       "      <th></th>\n",
       "      <th>customer_id</th>\n",
       "      <th>sex</th>\n",
       "      <th>customer_age</th>\n",
       "      <th>tenure</th>\n",
       "    </tr>\n",
       "  </thead>\n",
       "  <tbody>\n",
       "    <tr>\n",
       "      <th>0</th>\n",
       "      <td>9798859</td>\n",
       "      <td>Male</td>\n",
       "      <td>44.0</td>\n",
       "      <td>93</td>\n",
       "    </tr>\n",
       "    <tr>\n",
       "      <th>1</th>\n",
       "      <td>11413563</td>\n",
       "      <td>Male</td>\n",
       "      <td>36.0</td>\n",
       "      <td>65</td>\n",
       "    </tr>\n",
       "    <tr>\n",
       "      <th>2</th>\n",
       "      <td>818195</td>\n",
       "      <td>Male</td>\n",
       "      <td>35.0</td>\n",
       "      <td>129</td>\n",
       "    </tr>\n",
       "    <tr>\n",
       "      <th>3</th>\n",
       "      <td>12049009</td>\n",
       "      <td>Male</td>\n",
       "      <td>33.0</td>\n",
       "      <td>58</td>\n",
       "    </tr>\n",
       "    <tr>\n",
       "      <th>4</th>\n",
       "      <td>10083045</td>\n",
       "      <td>Male</td>\n",
       "      <td>42.0</td>\n",
       "      <td>88</td>\n",
       "    </tr>\n",
       "  </tbody>\n",
       "</table>\n",
       "</div>"
      ],
      "text/plain": [
       "   customer_id   sex  customer_age  tenure\n",
       "0      9798859  Male          44.0      93\n",
       "1     11413563  Male          36.0      65\n",
       "2       818195  Male          35.0     129\n",
       "3     12049009  Male          33.0      58\n",
       "4     10083045  Male          42.0      88"
      ]
     },
     "execution_count": 9,
     "metadata": {},
     "output_type": "execute_result"
    }
   ],
   "source": [
    "customer.head()"
   ]
  },
  {
   "cell_type": "code",
   "execution_count": 10,
   "id": "ebb79955",
   "metadata": {
    "execution": {
     "iopub.execute_input": "2022-01-18T19:33:34.301273Z",
     "iopub.status.busy": "2022-01-18T19:33:34.300663Z",
     "iopub.status.idle": "2022-01-18T19:33:34.308101Z",
     "shell.execute_reply": "2022-01-18T19:33:34.308645Z",
     "shell.execute_reply.started": "2022-01-18T19:32:32.387992Z"
    },
    "papermill": {
     "duration": 0.033955,
     "end_time": "2022-01-18T19:33:34.308826",
     "exception": false,
     "start_time": "2022-01-18T19:33:34.274871",
     "status": "completed"
    },
    "tags": []
   },
   "outputs": [
    {
     "data": {
      "text/plain": [
       "array(['Male', 'Female', 'kvkktalepsilindi', 'UNKNOWN'], dtype=object)"
      ]
     },
     "execution_count": 10,
     "metadata": {},
     "output_type": "execute_result"
    }
   ],
   "source": [
    "##As sex is an object datatype, so we check into their categories\n",
    "customer.sex.unique()"
   ]
  },
  {
   "cell_type": "code",
   "execution_count": 11,
   "id": "ec0a3d50",
   "metadata": {
    "execution": {
     "iopub.execute_input": "2022-01-18T19:33:34.356779Z",
     "iopub.status.busy": "2022-01-18T19:33:34.356106Z",
     "iopub.status.idle": "2022-01-18T19:33:34.365733Z",
     "shell.execute_reply": "2022-01-18T19:33:34.366229Z",
     "shell.execute_reply.started": "2022-01-18T19:32:32.404865Z"
    },
    "papermill": {
     "duration": 0.035379,
     "end_time": "2022-01-18T19:33:34.366413",
     "exception": false,
     "start_time": "2022-01-18T19:33:34.331034",
     "status": "completed"
    },
    "tags": []
   },
   "outputs": [
    {
     "data": {
      "text/plain": [
       "[3597]"
      ]
     },
     "execution_count": 11,
     "metadata": {},
     "output_type": "execute_result"
    }
   ],
   "source": [
    "customer.index[customer['sex']=='UNKNOWN'].tolist()"
   ]
  },
  {
   "cell_type": "code",
   "execution_count": 12,
   "id": "f441ad12",
   "metadata": {
    "execution": {
     "iopub.execute_input": "2022-01-18T19:33:34.422777Z",
     "iopub.status.busy": "2022-01-18T19:33:34.422131Z",
     "iopub.status.idle": "2022-01-18T19:33:34.425747Z",
     "shell.execute_reply": "2022-01-18T19:33:34.426248Z",
     "shell.execute_reply.started": "2022-01-18T19:32:32.418739Z"
    },
    "papermill": {
     "duration": 0.037206,
     "end_time": "2022-01-18T19:33:34.426444",
     "exception": false,
     "start_time": "2022-01-18T19:33:34.389238",
     "status": "completed"
    },
    "tags": []
   },
   "outputs": [
    {
     "data": {
      "text/plain": [
       "[1201, 6133, 6443, 8481, 9283, 10035, 11102, 19785]"
      ]
     },
     "execution_count": 12,
     "metadata": {},
     "output_type": "execute_result"
    }
   ],
   "source": [
    "customer.index[customer['sex']=='kvkktalepsilindi'].tolist()"
   ]
  },
  {
   "cell_type": "code",
   "execution_count": 13,
   "id": "4d700b91",
   "metadata": {
    "execution": {
     "iopub.execute_input": "2022-01-18T19:33:34.477155Z",
     "iopub.status.busy": "2022-01-18T19:33:34.476490Z",
     "iopub.status.idle": "2022-01-18T19:33:34.497123Z",
     "shell.execute_reply": "2022-01-18T19:33:34.496602Z",
     "shell.execute_reply.started": "2022-01-18T19:32:32.435894Z"
    },
    "papermill": {
     "duration": 0.047,
     "end_time": "2022-01-18T19:33:34.497266",
     "exception": false,
     "start_time": "2022-01-18T19:33:34.450266",
     "status": "completed"
    },
    "tags": []
   },
   "outputs": [
    {
     "data": {
      "text/html": [
       "<div>\n",
       "<style scoped>\n",
       "    .dataframe tbody tr th:only-of-type {\n",
       "        vertical-align: middle;\n",
       "    }\n",
       "\n",
       "    .dataframe tbody tr th {\n",
       "        vertical-align: top;\n",
       "    }\n",
       "\n",
       "    .dataframe thead th {\n",
       "        text-align: right;\n",
       "    }\n",
       "</style>\n",
       "<table border=\"1\" class=\"dataframe\">\n",
       "  <thead>\n",
       "    <tr style=\"text-align: right;\">\n",
       "      <th></th>\n",
       "      <th>customer_id</th>\n",
       "      <th>sex</th>\n",
       "      <th>customer_age</th>\n",
       "      <th>tenure</th>\n",
       "    </tr>\n",
       "  </thead>\n",
       "  <tbody>\n",
       "    <tr>\n",
       "      <th>0</th>\n",
       "      <td>9798859</td>\n",
       "      <td>Male</td>\n",
       "      <td>44.0</td>\n",
       "      <td>93</td>\n",
       "    </tr>\n",
       "    <tr>\n",
       "      <th>1</th>\n",
       "      <td>11413563</td>\n",
       "      <td>Male</td>\n",
       "      <td>36.0</td>\n",
       "      <td>65</td>\n",
       "    </tr>\n",
       "    <tr>\n",
       "      <th>2</th>\n",
       "      <td>818195</td>\n",
       "      <td>Male</td>\n",
       "      <td>35.0</td>\n",
       "      <td>129</td>\n",
       "    </tr>\n",
       "    <tr>\n",
       "      <th>3</th>\n",
       "      <td>12049009</td>\n",
       "      <td>Male</td>\n",
       "      <td>33.0</td>\n",
       "      <td>58</td>\n",
       "    </tr>\n",
       "    <tr>\n",
       "      <th>4</th>\n",
       "      <td>10083045</td>\n",
       "      <td>Male</td>\n",
       "      <td>42.0</td>\n",
       "      <td>88</td>\n",
       "    </tr>\n",
       "    <tr>\n",
       "      <th>...</th>\n",
       "      <td>...</td>\n",
       "      <td>...</td>\n",
       "      <td>...</td>\n",
       "      <td>...</td>\n",
       "    </tr>\n",
       "    <tr>\n",
       "      <th>19995</th>\n",
       "      <td>12557307</td>\n",
       "      <td>Male</td>\n",
       "      <td>41.0</td>\n",
       "      <td>52</td>\n",
       "    </tr>\n",
       "    <tr>\n",
       "      <th>19996</th>\n",
       "      <td>12595961</td>\n",
       "      <td>Male</td>\n",
       "      <td>29.0</td>\n",
       "      <td>52</td>\n",
       "    </tr>\n",
       "    <tr>\n",
       "      <th>19997</th>\n",
       "      <td>12520991</td>\n",
       "      <td>Male</td>\n",
       "      <td>35.0</td>\n",
       "      <td>52</td>\n",
       "    </tr>\n",
       "    <tr>\n",
       "      <th>19998</th>\n",
       "      <td>12612719</td>\n",
       "      <td>Male</td>\n",
       "      <td>39.0</td>\n",
       "      <td>52</td>\n",
       "    </tr>\n",
       "    <tr>\n",
       "      <th>19999</th>\n",
       "      <td>12572063</td>\n",
       "      <td>Male</td>\n",
       "      <td>28.0</td>\n",
       "      <td>52</td>\n",
       "    </tr>\n",
       "  </tbody>\n",
       "</table>\n",
       "<p>19991 rows × 4 columns</p>\n",
       "</div>"
      ],
      "text/plain": [
       "       customer_id   sex  customer_age  tenure\n",
       "0          9798859  Male          44.0      93\n",
       "1         11413563  Male          36.0      65\n",
       "2           818195  Male          35.0     129\n",
       "3         12049009  Male          33.0      58\n",
       "4         10083045  Male          42.0      88\n",
       "...            ...   ...           ...     ...\n",
       "19995     12557307  Male          41.0      52\n",
       "19996     12595961  Male          29.0      52\n",
       "19997     12520991  Male          35.0      52\n",
       "19998     12612719  Male          39.0      52\n",
       "19999     12572063  Male          28.0      52\n",
       "\n",
       "[19991 rows x 4 columns]"
      ]
     },
     "execution_count": 13,
     "metadata": {},
     "output_type": "execute_result"
    }
   ],
   "source": [
    "customer1= customer.drop([customer.index[1201], customer.index[6133],customer.index[6443], customer.index[8481],customer.index[9283], customer.index[10035],customer.index[11102], customer.index[19785],customer.index[3597]])\n",
    "customer1\n"
   ]
  },
  {
   "cell_type": "code",
   "execution_count": 14,
   "id": "563dedd6",
   "metadata": {
    "execution": {
     "iopub.execute_input": "2022-01-18T19:33:34.553612Z",
     "iopub.status.busy": "2022-01-18T19:33:34.552961Z",
     "iopub.status.idle": "2022-01-18T19:33:34.557190Z",
     "shell.execute_reply": "2022-01-18T19:33:34.557737Z",
     "shell.execute_reply.started": "2022-01-18T19:32:32.458484Z"
    },
    "papermill": {
     "duration": 0.035632,
     "end_time": "2022-01-18T19:33:34.557902",
     "exception": false,
     "start_time": "2022-01-18T19:33:34.522270",
     "status": "completed"
    },
    "tags": []
   },
   "outputs": [
    {
     "data": {
      "text/plain": [
       "array(['Male', 'Female'], dtype=object)"
      ]
     },
     "execution_count": 14,
     "metadata": {},
     "output_type": "execute_result"
    }
   ],
   "source": [
    "##Here sex category is checked and it is confirmed that the unknown and kvkktalepsilindi category are dropped\n",
    "customer1.sex.unique()"
   ]
  },
  {
   "cell_type": "code",
   "execution_count": 15,
   "id": "c7e9a41e",
   "metadata": {
    "execution": {
     "iopub.execute_input": "2022-01-18T19:33:34.609557Z",
     "iopub.status.busy": "2022-01-18T19:33:34.608841Z",
     "iopub.status.idle": "2022-01-18T19:33:34.753223Z",
     "shell.execute_reply": "2022-01-18T19:33:34.753738Z",
     "shell.execute_reply.started": "2022-01-18T19:32:32.469038Z"
    },
    "papermill": {
     "duration": 0.172093,
     "end_time": "2022-01-18T19:33:34.753916",
     "exception": false,
     "start_time": "2022-01-18T19:33:34.581823",
     "status": "completed"
    },
    "tags": []
   },
   "outputs": [
    {
     "data": {
      "image/png": "[encoded data removed]",
      "text/plain": [
       "<Figure size 432x288 with 1 Axes>"
      ]
     },
     "metadata": {},
     "output_type": "display_data"
    }
   ],
   "source": [
    "##Here the sales contribution is visualised \n",
    "customer1.sex.value_counts().plot.pie(autopct='%1.1f%%',\n",
    "                                     title = \"Sales Contribution By Sex\")\n",
    "plt.axis('equal')\n",
    "plt.show()  "
   ]
  },
  {
   "cell_type": "markdown",
   "id": "012f58fd",
   "metadata": {
    "papermill": {
     "duration": 0.02575,
     "end_time": "2022-01-18T19:33:34.806229",
     "exception": false,
     "start_time": "2022-01-18T19:33:34.780479",
     "status": "completed"
    },
    "tags": []
   },
   "source": [
    "According to pie chart, we can see males contribute the biggest portion of sales by 76.6%."
   ]
  },
  {
   "cell_type": "code",
   "execution_count": 16,
   "id": "a1d7156a",
   "metadata": {
    "execution": {
     "iopub.execute_input": "2022-01-18T19:33:34.866111Z",
     "iopub.status.busy": "2022-01-18T19:33:34.865364Z",
     "iopub.status.idle": "2022-01-18T19:33:34.884815Z",
     "shell.execute_reply": "2022-01-18T19:33:34.884223Z",
     "shell.execute_reply.started": "2022-01-18T19:32:32.590577Z"
    },
    "papermill": {
     "duration": 0.052177,
     "end_time": "2022-01-18T19:33:34.884982",
     "exception": false,
     "start_time": "2022-01-18T19:33:34.832805",
     "status": "completed"
    },
    "tags": []
   },
   "outputs": [
    {
     "data": {
      "text/html": [
       "<div>\n",
       "<style scoped>\n",
       "    .dataframe tbody tr th:only-of-type {\n",
       "        vertical-align: middle;\n",
       "    }\n",
       "\n",
       "    .dataframe tbody tr th {\n",
       "        vertical-align: top;\n",
       "    }\n",
       "\n",
       "    .dataframe thead tr th {\n",
       "        text-align: left;\n",
       "    }\n",
       "\n",
       "    .dataframe thead tr:last-of-type th {\n",
       "        text-align: right;\n",
       "    }\n",
       "</style>\n",
       "<table border=\"1\" class=\"dataframe\">\n",
       "  <thead>\n",
       "    <tr>\n",
       "      <th></th>\n",
       "      <th>count</th>\n",
       "    </tr>\n",
       "    <tr>\n",
       "      <th></th>\n",
       "      <th>customer_id</th>\n",
       "    </tr>\n",
       "    <tr>\n",
       "      <th>customer_age</th>\n",
       "      <th></th>\n",
       "    </tr>\n",
       "  </thead>\n",
       "  <tbody>\n",
       "    <tr>\n",
       "      <th>-34.0</th>\n",
       "      <td>1</td>\n",
       "    </tr>\n",
       "    <tr>\n",
       "      <th>3.0</th>\n",
       "      <td>2</td>\n",
       "    </tr>\n",
       "    <tr>\n",
       "      <th>4.0</th>\n",
       "      <td>1</td>\n",
       "    </tr>\n",
       "    <tr>\n",
       "      <th>5.0</th>\n",
       "      <td>710</td>\n",
       "    </tr>\n",
       "    <tr>\n",
       "      <th>6.0</th>\n",
       "      <td>1</td>\n",
       "    </tr>\n",
       "    <tr>\n",
       "      <th>...</th>\n",
       "      <td>...</td>\n",
       "    </tr>\n",
       "    <tr>\n",
       "      <th>127.0</th>\n",
       "      <td>1</td>\n",
       "    </tr>\n",
       "    <tr>\n",
       "      <th>130.0</th>\n",
       "      <td>1</td>\n",
       "    </tr>\n",
       "    <tr>\n",
       "      <th>139.0</th>\n",
       "      <td>1</td>\n",
       "    </tr>\n",
       "    <tr>\n",
       "      <th>149.0</th>\n",
       "      <td>1</td>\n",
       "    </tr>\n",
       "    <tr>\n",
       "      <th>2022.0</th>\n",
       "      <td>2102</td>\n",
       "    </tr>\n",
       "  </tbody>\n",
       "</table>\n",
       "<p>93 rows × 1 columns</p>\n",
       "</div>"
      ],
      "text/plain": [
       "                   count\n",
       "             customer_id\n",
       "customer_age            \n",
       "-34.0                  1\n",
       " 3.0                   2\n",
       " 4.0                   1\n",
       " 5.0                 710\n",
       " 6.0                   1\n",
       "...                  ...\n",
       " 127.0                 1\n",
       " 130.0                 1\n",
       " 139.0                 1\n",
       " 149.0                 1\n",
       " 2022.0             2102\n",
       "\n",
       "[93 rows x 1 columns]"
      ]
     },
     "execution_count": 16,
     "metadata": {},
     "output_type": "execute_result"
    }
   ],
   "source": [
    "#Here the data is grouped by customer age to see the distribution of sales according to thei ages \n",
    "output = pd.pivot_table(data=customer, index=['customer_age'],\n",
    "                        values='customer_id',\n",
    "                        aggfunc=['count'])\n",
    "output"
   ]
  },
  {
   "cell_type": "markdown",
   "id": "19c3736c",
   "metadata": {
    "execution": {
     "iopub.execute_input": "2022-01-18T19:15:13.107605Z",
     "iopub.status.busy": "2022-01-18T19:15:13.107281Z",
     "iopub.status.idle": "2022-01-18T19:15:13.113163Z",
     "shell.execute_reply": "2022-01-18T19:15:13.112102Z",
     "shell.execute_reply.started": "2022-01-18T19:15:13.107574Z"
    },
    "papermill": {
     "duration": 0.025755,
     "end_time": "2022-01-18T19:33:34.937447",
     "exception": false,
     "start_time": "2022-01-18T19:33:34.911692",
     "status": "completed"
    },
    "tags": []
   },
   "source": [
    "There are outliers in customer ages, the outliers are dropped using z_scores"
   ]
  },
  {
   "cell_type": "code",
   "execution_count": 17,
   "id": "b5753e37",
   "metadata": {
    "execution": {
     "iopub.execute_input": "2022-01-18T19:33:34.994192Z",
     "iopub.status.busy": "2022-01-18T19:33:34.993442Z",
     "iopub.status.idle": "2022-01-18T19:33:35.008101Z",
     "shell.execute_reply": "2022-01-18T19:33:35.007420Z",
     "shell.execute_reply.started": "2022-01-18T19:32:32.625723Z"
    },
    "papermill": {
     "duration": 0.043456,
     "end_time": "2022-01-18T19:33:35.008280",
     "exception": false,
     "start_time": "2022-01-18T19:33:34.964824",
     "status": "completed"
    },
    "tags": []
   },
   "outputs": [
    {
     "name": "stdout",
     "output_type": "stream",
     "text": [
      "                   count\n",
      "             customer_id\n",
      "customer_age            \n",
      "-34.0                  1\n",
      " 3.0                   2\n",
      " 4.0                   1\n",
      " 5.0                 710\n",
      " 6.0                   1\n",
      "...                  ...\n",
      " 124.0                 5\n",
      " 127.0                 1\n",
      " 130.0                 1\n",
      " 139.0                 1\n",
      " 149.0                 1\n",
      "\n",
      "[91 rows x 1 columns]\n"
     ]
    }
   ],
   "source": [
    "##Removing outliers\n",
    "from scipy import stats\n",
    "import numpy as np\n",
    "z_scores = stats.zscore(output)\n",
    "#calculate z-scores of `df`\n",
    "\n",
    "abs_z_scores = np.abs(z_scores)\n",
    "filtered_entries = (abs_z_scores < 3).all(axis=1)\n",
    "new_df = output[filtered_entries]\n",
    "\n",
    "print(new_df)"
   ]
  },
  {
   "cell_type": "code",
   "execution_count": 18,
   "id": "a9a98990",
   "metadata": {
    "execution": {
     "iopub.execute_input": "2022-01-18T19:33:35.066029Z",
     "iopub.status.busy": "2022-01-18T19:33:35.065217Z",
     "iopub.status.idle": "2022-01-18T19:33:35.314259Z",
     "shell.execute_reply": "2022-01-18T19:33:35.313596Z",
     "shell.execute_reply.started": "2022-01-18T19:32:32.653777Z"
    },
    "papermill": {
     "duration": 0.279317,
     "end_time": "2022-01-18T19:33:35.314435",
     "exception": false,
     "start_time": "2022-01-18T19:33:35.035118",
     "status": "completed"
    },
    "tags": []
   },
   "outputs": [
    {
     "data": {
      "text/plain": [
       "<AxesSubplot:xlabel='customer_age'>"
      ]
     },
     "execution_count": 18,
     "metadata": {},
     "output_type": "execute_result"
    },
    {
     "data": {
      "image/png": "[encoded data removed]",
      "text/plain": [
       "<Figure size 432x288 with 1 Axes>"
      ]
     },
     "metadata": {
      "needs_background": "light"
     },
     "output_type": "display_data"
    }
   ],
   "source": [
    "##Here I plot the customer age without outlier to see their contribution\n",
    "new_df.plot()"
   ]
  },
  {
   "cell_type": "markdown",
   "id": "54377c74",
   "metadata": {
    "papermill": {
     "duration": 0.028989,
     "end_time": "2022-01-18T19:33:35.372212",
     "exception": false,
     "start_time": "2022-01-18T19:33:35.343223",
     "status": "completed"
    },
    "tags": []
   },
   "source": [
    "We can see the biggest contribution is coming from customer with the age of 5 and customer in the group of 25 to 50.\n",
    "Now the owner know their market target which is male and customer in the age of 5 and 25 to 50 years old. "
   ]
  }
 ],
 "metadata": {
  "kernelspec": {
   "display_name": "Python 3",
   "language": "python",
   "name": "python3"
  },
  "language_info": {
   "codemirror_mode": {
    "name": "ipython",
    "version": 3
   },
   "file_extension": ".py",
   "mimetype": "text/x-python",
   "name": "python",
   "nbconvert_exporter": "python",
   "pygments_lexer": "ipython3",
   "version": "3.7.12"
  },
  "papermill": {
   "default_parameters": {},
   "duration": 15.20059,
   "end_time": "2022-01-18T19:33:36.211924",
   "environment_variables": {},
   "exception": null,
   "input_path": "__notebook__.ipynb",
   "output_path": "__notebook__.ipynb",
   "parameters": {},
   "start_time": "2022-01-18T19:33:21.011334",
   "version": "2.3.3"
  }
 },
 "nbformat": 4,
 "nbformat_minor": 5
}
